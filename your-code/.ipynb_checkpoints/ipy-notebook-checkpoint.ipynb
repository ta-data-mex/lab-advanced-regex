{
 "cells": [
  {
   "cell_type": "code",
   "execution_count": 1,
   "id": "967fb579",
   "metadata": {},
   "outputs": [],
   "source": [
    "def fake_bin(x):\n",
    "    import re\n",
    "    y = re.sub(r'[0-4]', '0', x)\n",
    "    z = re.sub(r'[5-9]', '1', y)\n",
    "    return(z)"
   ]
  },
  {
   "cell_type": "code",
   "execution_count": 2,
   "id": "6249d714",
   "metadata": {},
   "outputs": [
    {
     "name": "stdout",
     "output_type": "stream",
     "text": [
      "Type in any integer number: 5\n"
     ]
    },
    {
     "data": {
      "text/plain": [
       "'1'"
      ]
     },
     "execution_count": 2,
     "metadata": {},
     "output_type": "execute_result"
    }
   ],
   "source": [
    "x = input('Type in any integer number: ')\n",
    "fake_bin(x)"
   ]
  }
 ],
 "metadata": {
  "kernelspec": {
   "display_name": "Python 3",
   "language": "python",
   "name": "python3"
  },
  "language_info": {
   "codemirror_mode": {
    "name": "ipython",
    "version": 3
   },
   "file_extension": ".py",
   "mimetype": "text/x-python",
   "name": "python",
   "nbconvert_exporter": "python",
   "pygments_lexer": "ipython3",
   "version": "3.9.5"
  }
 },
 "nbformat": 4,
 "nbformat_minor": 5
}
