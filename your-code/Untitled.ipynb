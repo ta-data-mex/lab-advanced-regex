{
 "cells": [
  {
   "cell_type": "code",
   "execution_count": 1,
   "id": "c46c043a",
   "metadata": {},
   "outputs": [],
   "source": [
    "def nombre_de_mi_funcion():\n",
    "    print('Hola mundo')\n",
    "    \n",
    "#return o none"
   ]
  },
  {
   "cell_type": "code",
   "execution_count": 3,
   "id": "757c998a",
   "metadata": {
    "scrolled": true
   },
   "outputs": [
    {
     "name": "stdout",
     "output_type": "stream",
     "text": [
      "Hola mundo\n"
     ]
    }
   ],
   "source": [
    "nombre_de_mi_funcion()"
   ]
  },
  {
   "cell_type": "code",
   "execution_count": 5,
   "id": "c5973d79",
   "metadata": {},
   "outputs": [
    {
     "name": "stdout",
     "output_type": "stream",
     "text": [
      "Hola mundo\n",
      "None\n"
     ]
    }
   ],
   "source": [
    "resultado_de_la_funcion=nombre_de_mi_funcion()\n",
    "print(resultado_de_la_funcion)"
   ]
  },
  {
   "cell_type": "markdown",
   "id": "eab33a12",
   "metadata": {},
   "source": [
    "nombre_de_mi_funcion"
   ]
  },
  {
   "cell_type": "raw",
   "id": "c673b472",
   "metadata": {},
   "source": [
    "nombre_de_mi_funcion"
   ]
  },
  {
   "cell_type": "code",
   "execution_count": null,
   "id": "b6edaec4",
   "metadata": {},
   "outputs": [],
   "source": [
    "limpieza_de_db(BD)\n"
   ]
  },
  {
   "cell_type": "code",
   "execution_count": null,
   "id": "2c5b919d",
   "metadata": {},
   "outputs": [],
   "source": [
    "def limpieza_de_bd(base_de_datos):\n",
    "    \n",
    "    datos= traer_datos(base_de_datos)\n",
    "    datos= filtrados =filtrar(base_de_datos)\n",
    "    "
   ]
  },
  {
   "cell_type": "code",
   "execution_count": 7,
   "id": "db7077be",
   "metadata": {},
   "outputs": [
    {
     "name": "stdout",
     "output_type": "stream",
     "text": [
      "1 2 3\n"
     ]
    }
   ],
   "source": [
    "def mi_funcion(a, b, c):\n",
    "    print(a,b,c)\n",
    "\n",
    "mi_funcion(1,2,3)\n"
   ]
  },
  {
   "cell_type": "code",
   "execution_count": null,
   "id": "fc4df046",
   "metadata": {},
   "outputs": [],
   "source": []
  },
  {
   "cell_type": "code",
   "execution_count": 8,
   "id": "11dc2661",
   "metadata": {},
   "outputs": [
    {
     "ename": "NameError",
     "evalue": "name 'mi_funcion_' is not defined",
     "output_type": "error",
     "traceback": [
      "\u001b[1;31m---------------------------------------------------------------------------\u001b[0m",
      "\u001b[1;31mNameError\u001b[0m                                 Traceback (most recent call last)",
      "\u001b[1;32mC:\\Users\\JUANCA~1\\AppData\\Local\\Temp/ipykernel_16700/4069909743.py\u001b[0m in \u001b[0;36m<module>\u001b[1;34m\u001b[0m\n\u001b[1;32m----> 1\u001b[1;33m \u001b[0mmi_funcion_\u001b[0m\u001b[1;33m(\u001b[0m\u001b[1;36m3\u001b[0m\u001b[1;33m)\u001b[0m\u001b[1;33m\u001b[0m\u001b[1;33m\u001b[0m\u001b[0m\n\u001b[0m",
      "\u001b[1;31mNameError\u001b[0m: name 'mi_funcion_' is not defined"
     ]
    }
   ],
   "source": [
    "mi_funcion_(3)"
   ]
  }
 ],
 "metadata": {
  "kernelspec": {
   "display_name": "Python 3 (ipykernel)",
   "language": "python",
   "name": "python3"
  },
  "language_info": {
   "codemirror_mode": {
    "name": "ipython",
    "version": 3
   },
   "file_extension": ".py",
   "mimetype": "text/x-python",
   "name": "python",
   "nbconvert_exporter": "python",
   "pygments_lexer": "ipython3",
   "version": "3.9.7"
  }
 },
 "nbformat": 4,
 "nbformat_minor": 5
}
